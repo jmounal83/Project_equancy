{
 "cells": [
  {
   "cell_type": "code",
   "execution_count": 1,
   "id": "4e9610cd-e921-4147-b59b-a6f104f4c35e",
   "metadata": {},
   "outputs": [],
   "source": [
    "# Importation of useful librairies\n",
    "import pandas as pd \n",
    "import numpy as np\n",
    "import matplotlib.pyplot as plt\n",
    "import seaborn as sns\n",
    "\n",
    "from sklearn.preprocessing import MultiLabelBinarizer, LabelEncoder\n",
    "from sklearn.model_selection import train_test_split\n",
    "from sklearn.decomposition import PCA\n",
    "from sklearn.model_selection import GridSearchCV\n",
    "from sklearn.ensemble import RandomForestClassifier\n",
    "from sklearn import metrics\n",
    "from sklearn.cluster import KMeans\n"
   ]
  },
  {
   "cell_type": "markdown",
   "id": "7621fe3b-4489-4ab1-b197-ddd58e0026e2",
   "metadata": {},
   "source": [
    "### Aperçu du dataset "
   ]
  },
  {
   "cell_type": "code",
   "execution_count": 2,
   "id": "69b8cfd3-8152-44cd-a09f-389d3762cbdf",
   "metadata": {},
   "outputs": [
    {
     "data": {
      "text/html": [
       "<div>\n",
       "<style scoped>\n",
       "    .dataframe tbody tr th:only-of-type {\n",
       "        vertical-align: middle;\n",
       "    }\n",
       "\n",
       "    .dataframe tbody tr th {\n",
       "        vertical-align: top;\n",
       "    }\n",
       "\n",
       "    .dataframe thead th {\n",
       "        text-align: right;\n",
       "    }\n",
       "</style>\n",
       "<table border=\"1\" class=\"dataframe\">\n",
       "  <thead>\n",
       "    <tr style=\"text-align: right;\">\n",
       "      <th></th>\n",
       "      <th>Entreprise</th>\n",
       "      <th>Metier</th>\n",
       "      <th>Technologies</th>\n",
       "      <th>Diplome</th>\n",
       "      <th>Experience</th>\n",
       "      <th>Ville</th>\n",
       "    </tr>\n",
       "  </thead>\n",
       "  <tbody>\n",
       "    <tr>\n",
       "      <th>0</th>\n",
       "      <td>Sanofi</td>\n",
       "      <td>Data scientist</td>\n",
       "      <td>Matlab/Python/Pyspark/Scikit-learn/Tensorflow</td>\n",
       "      <td>Master</td>\n",
       "      <td>1.0</td>\n",
       "      <td>Paris</td>\n",
       "    </tr>\n",
       "    <tr>\n",
       "      <th>1</th>\n",
       "      <td>Massachusetts General Hospital(MGH)</td>\n",
       "      <td>Data architecte</td>\n",
       "      <td>Python/Java/Scala/MongoDB</td>\n",
       "      <td>Master</td>\n",
       "      <td>3.0</td>\n",
       "      <td>Marseille</td>\n",
       "    </tr>\n",
       "    <tr>\n",
       "      <th>2</th>\n",
       "      <td>Delve</td>\n",
       "      <td>Lead data scientist</td>\n",
       "      <td>SPSS/SQL/Teradata/R/Python/Tensorflow/scikit-l...</td>\n",
       "      <td>Master</td>\n",
       "      <td>3.0</td>\n",
       "      <td>Nantes</td>\n",
       "    </tr>\n",
       "    <tr>\n",
       "      <th>3</th>\n",
       "      <td>Ann &amp; Robert H. Lurie Children’s Hospital of C...</td>\n",
       "      <td>Data scientist</td>\n",
       "      <td>C/C++/Java/Python</td>\n",
       "      <td>Master</td>\n",
       "      <td>1.5</td>\n",
       "      <td>Marseille</td>\n",
       "    </tr>\n",
       "    <tr>\n",
       "      <th>4</th>\n",
       "      <td>Arm</td>\n",
       "      <td>Data scientist</td>\n",
       "      <td>Matlab/Python/C++/numpy/Tensorflow/scikit-learn</td>\n",
       "      <td>Phd</td>\n",
       "      <td>NaN</td>\n",
       "      <td>Bordeaux</td>\n",
       "    </tr>\n",
       "  </tbody>\n",
       "</table>\n",
       "</div>"
      ],
      "text/plain": [
       "                                          Entreprise               Metier  \\\n",
       "0                                             Sanofi       Data scientist   \n",
       "1                Massachusetts General Hospital(MGH)      Data architecte   \n",
       "2                                              Delve  Lead data scientist   \n",
       "3  Ann & Robert H. Lurie Children’s Hospital of C...       Data scientist   \n",
       "4                                                Arm       Data scientist   \n",
       "\n",
       "                                        Technologies Diplome  Experience  \\\n",
       "0      Matlab/Python/Pyspark/Scikit-learn/Tensorflow  Master         1.0   \n",
       "1                          Python/Java/Scala/MongoDB  Master         3.0   \n",
       "2  SPSS/SQL/Teradata/R/Python/Tensorflow/scikit-l...  Master         3.0   \n",
       "3                                  C/C++/Java/Python  Master         1.5   \n",
       "4    Matlab/Python/C++/numpy/Tensorflow/scikit-learn     Phd         NaN   \n",
       "\n",
       "       Ville  \n",
       "0      Paris  \n",
       "1  Marseille  \n",
       "2     Nantes  \n",
       "3  Marseille  \n",
       "4   Bordeaux  "
      ]
     },
     "execution_count": 2,
     "metadata": {},
     "output_type": "execute_result"
    }
   ],
   "source": [
    "#Creation of a pandas dataframe to store datas\n",
    "df = pd.read_csv(\"data/data.csv\",decimal = ',')\n",
    "df.head()"
   ]
  },
  {
   "cell_type": "code",
   "execution_count": 3,
   "id": "8deecac8-308e-4614-af0d-1e4a129aa920",
   "metadata": {},
   "outputs": [],
   "source": [
    "df_data = df"
   ]
  },
  {
   "cell_type": "markdown",
   "id": "09fcce9a-5ea1-48fa-a4b2-92d0a869a388",
   "metadata": {},
   "source": [
    "### Question 1 "
   ]
  },
  {
   "cell_type": "code",
   "execution_count": 4,
   "id": "3463f561-1489-47f3-a8e0-658a957e1873",
   "metadata": {},
   "outputs": [
    {
     "name": "stdout",
     "output_type": "stream",
     "text": [
      "Nombre d'observation dans le jeu de données :  9582\n"
     ]
    }
   ],
   "source": [
    "print(\"Nombre d'observation dans le jeu de données : \",len(df_data))"
   ]
  },
  {
   "cell_type": "code",
   "execution_count": 5,
   "id": "ad70a566-b099-4d4f-ba03-ca2894132ff7",
   "metadata": {},
   "outputs": [
    {
     "name": "stdout",
     "output_type": "stream",
     "text": [
      "Nombre d'observation manquantes par attributs :\n",
      " Entreprise      17\n",
      "Metier          19\n",
      "Technologies     0\n",
      "Diplome          0\n",
      "Experience      94\n",
      "Ville            0\n",
      "dtype: int64\n"
     ]
    }
   ],
   "source": [
    "print(\"Nombre d'observation manquantes par attributs :\\n\", df_data.isna().sum())"
   ]
  },
  {
   "cell_type": "markdown",
   "id": "aef2721d-f8ef-490d-81a2-b0d681a04757",
   "metadata": {},
   "source": [
    "On observe des valeurs manquantes pour les attributs Entreprise, Métier et Experience. "
   ]
  },
  {
   "cell_type": "markdown",
   "id": "1e562818-90d0-40d4-afad-9cb255366012",
   "metadata": {},
   "source": [
    "### Question 2"
   ]
  },
  {
   "cell_type": "code",
   "execution_count": 6,
   "id": "d6c99ae6-6e17-4c44-ade1-ed4e042efbe1",
   "metadata": {},
   "outputs": [
    {
     "name": "stdout",
     "output_type": "stream",
     "text": [
      " Regardons premièrement si nous avons une orthographe unique pour les différents métiers.\n",
      " Liste des différents métiers dans la dataframe :\n",
      " ['Data scientist' 'Data architecte' 'Lead data scientist' 'Data engineer'\n",
      " nan]\n"
     ]
    }
   ],
   "source": [
    "print(\" Regardons premièrement si nous avons une orthographe unique pour les différents métiers.\\n\",\n",
    "      \"Liste des différents métiers dans la dataframe :\\n\",\n",
    "      df_data[\"Metier\"].unique())"
   ]
  },
  {
   "cell_type": "markdown",
   "id": "50a3d230-7b6a-4dd7-aeda-7367e823099a",
   "metadata": {},
   "source": [
    "Il n'y a qu'une seule orthographe, nous n'avons pas besoin de retraiter cette colonne pour le moment.\n",
    "\n",
    "Nous confirmons avec la question précédente qu'il exite des observations où la valeur métier n'est pas renseignée."
   ]
  },
  {
   "cell_type": "markdown",
   "id": "c4b4a264-ab43-48ef-9e6c-92673a93d077",
   "metadata": {},
   "source": [
    "#### Remplacement des valeurs NaN pour deux types de métiers"
   ]
  },
  {
   "cell_type": "code",
   "execution_count": 7,
   "id": "cc3f85c0-70ce-4568-8403-010ca77645bc",
   "metadata": {},
   "outputs": [],
   "source": [
    "def replacement_nan_experience(df, metier, method) : \n",
    "    \"\"\" function allowing to replace the NaN values of experience for a given job according to a given method.\n",
    "        \n",
    "        Parameters\n",
    "        ----------\n",
    "        df : pandas.DataFrame\n",
    "            the considered dataframe\n",
    "            \n",
    "        metier : str\n",
    "            selected job to make the replacement\n",
    "            \n",
    "        method : {'mean', 'median'}\n",
    "            method used for replace the missing values\n",
    "            \n",
    "        Returns\n",
    "        -------\n",
    "        df : pandas.DataFrame\n",
    "            dataframe with replacement\n",
    "        \"\"\"\n",
    "    #Calculating the median value for data scientists and replacement for NaN values\n",
    "    if method == \"mean\" :\n",
    "        value_for_replace = np.round(df[df[\"Metier\"] == metier]['Experience'].mean(),1)\n",
    "    elif  method == \"median\" : \n",
    "        value_for_replace = np.round(df[df[\"Metier\"] == metier]['Experience'].median(),1)\n",
    "    else : \n",
    "        print(\"Parameter method is not valid, use mean or median\")\n",
    "\n",
    "    #Get index of NaN values for Experience of all Data Scientist\n",
    "    condition = (df[\"Metier\"] == metier) & (df['Experience'].isnull())\n",
    "    index_nan = df.index[condition].tolist()\n",
    "\n",
    "    #Replacement for NaN values\n",
    "    df.loc[index_nan, \"Experience\"] = value_for_replace"
   ]
  },
  {
   "cell_type": "markdown",
   "id": "ee7fbad5-f6c6-4652-8ef6-d6c8820a73db",
   "metadata": {},
   "source": [
    "Remplacement pour les data scientists"
   ]
  },
  {
   "cell_type": "code",
   "execution_count": 8,
   "id": "4f05d868-e227-480b-a12b-edc50355056f",
   "metadata": {},
   "outputs": [],
   "source": [
    "replacement_nan_experience(df_data, \"Data scientist\", \"median\")"
   ]
  },
  {
   "cell_type": "markdown",
   "id": "377cada4-8779-4437-b367-21ffbf417529",
   "metadata": {},
   "source": [
    "Remplacement pour les data engineers"
   ]
  },
  {
   "cell_type": "code",
   "execution_count": 9,
   "id": "1cbca7c7-4a91-4a4c-a309-f5b01052e8c0",
   "metadata": {},
   "outputs": [],
   "source": [
    "replacement_nan_experience(df_data, \"Data engineer\", \"mean\")"
   ]
  },
  {
   "cell_type": "code",
   "execution_count": 10,
   "id": "4c34f1e1-0625-4ba6-9506-33a2e300f01a",
   "metadata": {},
   "outputs": [
    {
     "data": {
      "text/html": [
       "<div>\n",
       "<style scoped>\n",
       "    .dataframe tbody tr th:only-of-type {\n",
       "        vertical-align: middle;\n",
       "    }\n",
       "\n",
       "    .dataframe tbody tr th {\n",
       "        vertical-align: top;\n",
       "    }\n",
       "\n",
       "    .dataframe thead th {\n",
       "        text-align: right;\n",
       "    }\n",
       "</style>\n",
       "<table border=\"1\" class=\"dataframe\">\n",
       "  <thead>\n",
       "    <tr style=\"text-align: right;\">\n",
       "      <th></th>\n",
       "      <th>Entreprise</th>\n",
       "      <th>Metier</th>\n",
       "      <th>Technologies</th>\n",
       "      <th>Diplome</th>\n",
       "      <th>Experience</th>\n",
       "      <th>Ville</th>\n",
       "    </tr>\n",
       "  </thead>\n",
       "  <tbody>\n",
       "    <tr>\n",
       "      <th>0</th>\n",
       "      <td>Sanofi</td>\n",
       "      <td>Data scientist</td>\n",
       "      <td>Matlab/Python/Pyspark/Scikit-learn/Tensorflow</td>\n",
       "      <td>Master</td>\n",
       "      <td>1.0</td>\n",
       "      <td>Paris</td>\n",
       "    </tr>\n",
       "    <tr>\n",
       "      <th>1</th>\n",
       "      <td>Massachusetts General Hospital(MGH)</td>\n",
       "      <td>Data architecte</td>\n",
       "      <td>Python/Java/Scala/MongoDB</td>\n",
       "      <td>Master</td>\n",
       "      <td>3.0</td>\n",
       "      <td>Marseille</td>\n",
       "    </tr>\n",
       "    <tr>\n",
       "      <th>2</th>\n",
       "      <td>Delve</td>\n",
       "      <td>Lead data scientist</td>\n",
       "      <td>SPSS/SQL/Teradata/R/Python/Tensorflow/scikit-l...</td>\n",
       "      <td>Master</td>\n",
       "      <td>3.0</td>\n",
       "      <td>Nantes</td>\n",
       "    </tr>\n",
       "    <tr>\n",
       "      <th>3</th>\n",
       "      <td>Ann &amp; Robert H. Lurie Children’s Hospital of C...</td>\n",
       "      <td>Data scientist</td>\n",
       "      <td>C/C++/Java/Python</td>\n",
       "      <td>Master</td>\n",
       "      <td>1.5</td>\n",
       "      <td>Marseille</td>\n",
       "    </tr>\n",
       "    <tr>\n",
       "      <th>4</th>\n",
       "      <td>Arm</td>\n",
       "      <td>Data scientist</td>\n",
       "      <td>Matlab/Python/C++/numpy/Tensorflow/scikit-learn</td>\n",
       "      <td>Phd</td>\n",
       "      <td>2.0</td>\n",
       "      <td>Bordeaux</td>\n",
       "    </tr>\n",
       "  </tbody>\n",
       "</table>\n",
       "</div>"
      ],
      "text/plain": [
       "                                          Entreprise               Metier  \\\n",
       "0                                             Sanofi       Data scientist   \n",
       "1                Massachusetts General Hospital(MGH)      Data architecte   \n",
       "2                                              Delve  Lead data scientist   \n",
       "3  Ann & Robert H. Lurie Children’s Hospital of C...       Data scientist   \n",
       "4                                                Arm       Data scientist   \n",
       "\n",
       "                                        Technologies Diplome  Experience  \\\n",
       "0      Matlab/Python/Pyspark/Scikit-learn/Tensorflow  Master         1.0   \n",
       "1                          Python/Java/Scala/MongoDB  Master         3.0   \n",
       "2  SPSS/SQL/Teradata/R/Python/Tensorflow/scikit-l...  Master         3.0   \n",
       "3                                  C/C++/Java/Python  Master         1.5   \n",
       "4    Matlab/Python/C++/numpy/Tensorflow/scikit-learn     Phd         2.0   \n",
       "\n",
       "       Ville  \n",
       "0      Paris  \n",
       "1  Marseille  \n",
       "2     Nantes  \n",
       "3  Marseille  \n",
       "4   Bordeaux  "
      ]
     },
     "execution_count": 10,
     "metadata": {},
     "output_type": "execute_result"
    }
   ],
   "source": [
    "df_data.head()"
   ]
  },
  {
   "cell_type": "markdown",
   "id": "036484ef-2de2-421d-8a4c-3191d10e254d",
   "metadata": {},
   "source": [
    "On pourrait se demander pourquoi choisir la médiane ou la moyenne, cependant au vu de la feature en question une moyenne parait plus judicieuse. En effet les données ne sont pas réparties sur un grand intervalle. "
   ]
  },
  {
   "cell_type": "markdown",
   "id": "f05cf5a6-0152-4a7b-9a89-7bc99c45316d",
   "metadata": {
    "tags": []
   },
   "source": [
    "### Question 3"
   ]
  },
  {
   "cell_type": "markdown",
   "id": "6b6cce8a-9f6b-4b20-9903-ac0defaff145",
   "metadata": {},
   "source": [
    "Pour un soucis de cohérence dans le calcul des moyennes nous allons remplacer les valeurs manquantes pour la variable \"Experience\"\n",
    "avec la valeur médiane pour les lead data scientists et la valeur moyenne pour les data architecte"
   ]
  },
  {
   "cell_type": "markdown",
   "id": "aab67015-50f4-41ad-95d7-594ea6e160c4",
   "metadata": {},
   "source": [
    "Remplacement pour les lead data scientists"
   ]
  },
  {
   "cell_type": "code",
   "execution_count": 11,
   "id": "950f542a-03d9-44fb-b560-f9b31b3192fc",
   "metadata": {},
   "outputs": [],
   "source": [
    "replacement_nan_experience(df_data, \"Lead data scientist\", \"median\")"
   ]
  },
  {
   "cell_type": "markdown",
   "id": "df436821-b56c-4f95-bb36-21ca6222d85f",
   "metadata": {},
   "source": [
    "Remplacement pour les data architecte"
   ]
  },
  {
   "cell_type": "code",
   "execution_count": 12,
   "id": "be13a21b-6f22-4b58-86a3-9c46690e60eb",
   "metadata": {},
   "outputs": [],
   "source": [
    "replacement_nan_experience(df_data, \"Data architecte\", \"mean\")"
   ]
  },
  {
   "cell_type": "code",
   "execution_count": 13,
   "id": "63b7fc17-d4c7-451a-bd2f-6b394285197c",
   "metadata": {},
   "outputs": [
    {
     "name": "stdout",
     "output_type": "stream",
     "text": [
      "Valeurs NaN dans Experience : 0\n"
     ]
    }
   ],
   "source": [
    "print(\"Valeurs NaN dans Experience :\", df['Experience'].isna().sum())"
   ]
  },
  {
   "cell_type": "markdown",
   "id": "b6696d94-a155-4378-9d6f-392065b1883e",
   "metadata": {},
   "source": [
    "Réponse à la question "
   ]
  },
  {
   "cell_type": "code",
   "execution_count": 14,
   "id": "240646fd-da7d-4461-ad69-992b75e9fd28",
   "metadata": {},
   "outputs": [
    {
     "name": "stdout",
     "output_type": "stream",
     "text": [
      "L'expérienne moyenne (en années) pour les différents métiers est :\n",
      " Metier\n",
      "Data architecte        3.0\n",
      "Data engineer          3.0\n",
      "Data scientist         2.2\n",
      "Lead data scientist    4.0\n",
      "Name: Experience, dtype: float64\n"
     ]
    }
   ],
   "source": [
    "print(\"L'expérienne moyenne (en années) pour les différents métiers est :\\n\",\n",
    "      np.round(df_data.groupby('Metier')['Experience'].mean(),1))"
   ]
  },
  {
   "cell_type": "markdown",
   "id": "0c69b0c5-2c7a-45b3-9d01-10d845f2c280",
   "metadata": {
    "tags": []
   },
   "source": [
    "### Question 4"
   ]
  },
  {
   "cell_type": "markdown",
   "id": "6492d7bb-b284-4e91-9373-74c3fd3c609f",
   "metadata": {},
   "source": [
    "Pour cette question je propose de regarder la répartition via des histogrammes pour les différents métiers"
   ]
  },
  {
   "cell_type": "code",
   "execution_count": 15,
   "id": "bcfc01ce-f099-488d-bac3-789b332f542d",
   "metadata": {},
   "outputs": [
    {
     "data": {
      "image/png": "[encoded data removed]",
      "text/plain": [
       "<Figure size 1000x700 with 4 Axes>"
      ]
     },
     "metadata": {},
     "output_type": "display_data"
    }
   ],
   "source": [
    "fig, axs = plt.subplots(2, 2, figsize=(10, 7))\n",
    "\n",
    "axs[0, 0].set(xlabel=\"Experience for Data scientist\")\n",
    "sns.histplot(data=df_data[df_data[\"Metier\"]==\"Data scientist\"], x=\"Experience\", binwidth=1, kde=True, color=\"skyblue\", ax=axs[0, 0])\n",
    "\n",
    "axs[0, 1].set(xlabel=\"Experience for Data architecte\")\n",
    "sns.histplot(data=df_data[df_data[\"Metier\"]==\"Data architecte\"], x=\"Experience\", binwidth=1, kde=True, color=\"olive\", ax=axs[0, 1])\n",
    "\n",
    "axs[1, 0].set(xlabel=\"Experience for Lead data scientist\")\n",
    "sns.histplot(data=df_data[df_data[\"Metier\"]==\"Lead data scientist\"], x=\"Experience\", binwidth=1, kde=True, color=\"gold\", ax=axs[1, 0])\n",
    "\n",
    "axs[1, 1].set(xlabel=\"Experience for Data engineer\")\n",
    "sns.histplot(data=df_data[df_data[\"Metier\"]==\"Data engineer\"], x=\"Experience\", binwidth=1, kde=True, color=\"teal\", ax=axs[1, 1])\n",
    "\n",
    "plt.show()"
   ]
  },
  {
   "cell_type": "markdown",
   "id": "59d6e4f0-c6d0-4c29-af7e-e980e7d102bd",
   "metadata": {},
   "source": [
    "On note que les histogrammes des Data engineer et des Data architecte sont très similaires, marqués par une plus grande présence de personne ayant une expérience entre 0 et 5 ans. L'histogramme pour les Data scientist a un profil semblable bien que la majorité des personnes ait une expérience entre 0 et 4 ans et cela décroit encore plus rapidement. \n",
    "\n",
    "Enfin concernant les Lead Data scientist, on note qu'il faut avoir une expérience plus importante puisque que la majorité des sondés semble avoir une expérience entre 2 et 4 ans."
   ]
  },
  {
   "cell_type": "code",
   "execution_count": 16,
   "id": "b8d99db5-3da9-4ba7-a37d-71f3a6e403a9",
   "metadata": {},
   "outputs": [
    {
     "data": {
      "image/png": "[encoded data removed]",
      "text/plain": [
       "<Figure size 1000x500 with 1 Axes>"
      ]
     },
     "metadata": {},
     "output_type": "display_data"
    }
   ],
   "source": [
    "#We reduce data to people with less than 9 years of experience to make a more readable graph\n",
    "sns.catplot(data=df_data[df_data[\"Experience\"]<=8], x=\"Metier\", y=\"Experience\", kind=\"box\", height = 5, aspect = 2)\n",
    "plt.show()"
   ]
  },
  {
   "cell_type": "markdown",
   "id": "edf1444a-f439-4b31-bb5a-d73bbe3ed840",
   "metadata": {},
   "source": [
    "Grâce au boxplot, il est plus facile de repérer certaines valeurs clef comme les quantiles et la médiane. \n",
    "\n",
    "Cela confirme ce qui a été dit plus haut, à savoir une faible étendue pour les Data scientist avec une médiane à 1.5 an. Une médiane des expériences à 2.5 ans pour les Data architecte et pour les Data engineer, ainsi qu'une médiane à 3 ans pour les Lead data scientist. "
   ]
  },
  {
   "cell_type": "markdown",
   "id": "024ef5c1-965d-42dc-a7f8-00f21559064f",
   "metadata": {
    "tags": []
   },
   "source": [
    "### Question 5"
   ]
  },
  {
   "cell_type": "markdown",
   "id": "796f86f7-aa80-4a99-abc3-c6d994b5010f",
   "metadata": {},
   "source": [
    "En l'absence de dialogue avec le métier, je pose la découpe suivante : l'intervale est découpé en 4 longueurs égales.  \n",
    "L'appartenance au 1er intervalle -> Debutant  \n",
    "L'appartenance au 2nd intervalle -> Confirme  \n",
    "L'appartenance au 3eme intervalle -> Avance  \n",
    "L'appartenance au dernier intervalle -> Expert  "
   ]
  },
  {
   "cell_type": "code",
   "execution_count": 17,
   "id": "4680cd44-e7dd-409e-9f9d-beeed14f44fd",
   "metadata": {},
   "outputs": [],
   "source": [
    "# df_data = df_data[df_data[\"Metier\"].notnull()]"
   ]
  },
  {
   "cell_type": "code",
   "execution_count": 18,
   "id": "f122a481-1717-437c-8918-daa41c5928ee",
   "metadata": {},
   "outputs": [],
   "source": [
    "# df_data.loc[:, \"Quantile\"] = df_data.groupby(\"Metier\").apply(lambda df: pd.qcut(df[\"Experience\"], 6, labels=False, duplicates=\"drop\")).values\n",
    "df_data.loc[:, \"Quantile\"] = pd.qcut(df.loc[:,\"Experience\"], 4, labels=False)\n",
    "exp_label = {0:'Debutant', 1:'Confirme', 2:'Avance', 3:'Expert',\n",
    "            # 4:'Avance', 5:'Expert'\n",
    "            }\n",
    "df_data.loc[:, \"Exp_label\"] = df_data['Quantile'].map(exp_label)\n",
    "df_data = df_data.drop(\"Quantile\", axis=1)"
   ]
  },
  {
   "cell_type": "code",
   "execution_count": 19,
   "id": "0b874ffb-8b82-43c3-8314-c80375c289ff",
   "metadata": {},
   "outputs": [
    {
     "data": {
      "text/plain": [
       "Metier               Exp_label\n",
       "Data architecte      Avance        527\n",
       "                     Confirme      350\n",
       "                     Debutant      626\n",
       "                     Expert        620\n",
       "Data engineer        Avance        591\n",
       "                     Confirme      384\n",
       "                     Debutant      718\n",
       "                     Expert        654\n",
       "Data scientist       Avance        817\n",
       "                     Confirme     1196\n",
       "                     Debutant     1380\n",
       "                     Expert        472\n",
       "Lead data scientist  Avance        626\n",
       "                     Confirme       97\n",
       "                     Debutant       82\n",
       "                     Expert        423\n",
       "Name: Experience, dtype: int64"
      ]
     },
     "execution_count": 19,
     "metadata": {},
     "output_type": "execute_result"
    }
   ],
   "source": [
    "df_data.groupby([\"Metier\", \"Exp_label\"])[\"Experience\"].count()"
   ]
  },
  {
   "cell_type": "markdown",
   "id": "04053933-dcaf-4e00-902f-dc024ad6c974",
   "metadata": {
    "tags": []
   },
   "source": [
    "### Question 6"
   ]
  },
  {
   "cell_type": "code",
   "execution_count": 20,
   "id": "c974110e-0337-4e2f-b585-2527c42249cb",
   "metadata": {},
   "outputs": [],
   "source": [
    "#Creation of a MultiLabelBinarizer\n",
    "mlb = MultiLabelBinarizer()\n",
    "\n",
    "#Remove separation between technologies and lower all words\n",
    "df_data[\"List_tech\"] = df_data[\"Technologies\"].apply(lambda x : x.replace('//','/'))\n",
    "df_data[\"List_tech\"] = df_data[\"List_tech\"].apply(lambda x : x.lower().split('/'))\n"
   ]
  },
  {
   "cell_type": "code",
   "execution_count": 21,
   "id": "9f865e3c-ac16-4cba-8eb9-7bb9a6e679f0",
   "metadata": {},
   "outputs": [],
   "source": [
    "#Encoding every tech and join with the original dataframe\n",
    "df_tech_list = pd.DataFrame(mlb.fit_transform(df_data['List_tech']),columns=mlb.classes_, index=df_data.index)\n",
    "df_data = df_data.join(df_tech_list)"
   ]
  },
  {
   "cell_type": "code",
   "execution_count": 22,
   "id": "da3f52ea-bc9b-4975-bd1f-489feda5180e",
   "metadata": {},
   "outputs": [],
   "source": [
    "#Drop old representation of technologies\n",
    "df_data = df_data.drop(['Technologies', 'List_tech'], axis=1)"
   ]
  },
  {
   "cell_type": "markdown",
   "id": "6fb035b6-6c92-4c4a-846b-5c1a3d66aecd",
   "metadata": {},
   "source": [
    "Creation d'une nouvelle dataframe avec le taux d'utilisation"
   ]
  },
  {
   "cell_type": "code",
   "execution_count": 23,
   "id": "dfa248ce-5512-4c5c-b2ff-a676b46f6e9b",
   "metadata": {},
   "outputs": [],
   "source": [
    "#Counting lines with a selected technology \n",
    "df_tech = df_data.iloc[:,6:].sum().to_frame(name = \"Utilisateurs\")\n",
    "df_tech[\"Utilisateur(%)\"] = np.round(df_data.iloc[:,7:].sum()/df_data.iloc[:,7:].count()*100,2)"
   ]
  },
  {
   "cell_type": "code",
   "execution_count": 24,
   "id": "1a474bf5-3d56-4565-a524-1891383b71c8",
   "metadata": {},
   "outputs": [],
   "source": [
    "#Sort this dataframe\n",
    "df_tech = df_tech.sort_values(\"Utilisateurs\", ascending = False)"
   ]
  },
  {
   "cell_type": "code",
   "execution_count": 25,
   "id": "7d5c4cfc-4b6e-4a08-8ca0-8ee3abe30944",
   "metadata": {},
   "outputs": [
    {
     "data": {
      "image/png": "[encoded data removed]",
      "text/plain": [
       "<Figure size 1500x800 with 1 Axes>"
      ]
     },
     "metadata": {},
     "output_type": "display_data"
    }
   ],
   "source": [
    "plt.figure(figsize=(15,8))\n",
    "df_tech_reduced = df_tech[df_tech[\"Utilisateur(%)\"]>=10]\n",
    "sns.barplot(data=df_tech_reduced, x=df_tech_reduced.index, y=\"Utilisateur(%)\")\n",
    "plt.title(\"Principales technologies utilisées\")\n",
    "plt.show()"
   ]
  },
  {
   "cell_type": "markdown",
   "id": "de7c9e6a-4dbe-4442-8f07-59b5fa6e844c",
   "metadata": {},
   "source": [
    "Les 5 technologies les plus utilisées sont donc :  \n",
    "-Python  \n",
    "-R  \n",
    "-SQL  \n",
    "-Java  \n",
    "-Hadoop"
   ]
  },
  {
   "cell_type": "code",
   "execution_count": 26,
   "id": "bfcc3554-5bb2-4ed5-a38f-7a5efd7a5203",
   "metadata": {},
   "outputs": [],
   "source": [
    "df_data.to_csv('data/data_transformed.csv', index=False)"
   ]
  },
  {
   "cell_type": "markdown",
   "id": "a56ca99f-1436-4b26-b7d4-75d64805d1bc",
   "metadata": {
    "tags": []
   },
   "source": [
    "### Question 7"
   ]
  },
  {
   "cell_type": "markdown",
   "id": "2f1b3629-49b0-40bb-b057-6fbf44138646",
   "metadata": {},
   "source": [
    "#### Utilisation de KMeans et de PCA"
   ]
  },
  {
   "cell_type": "code",
   "execution_count": 27,
   "id": "56b57c4d-272c-4189-95a8-1f6e2d43235f",
   "metadata": {},
   "outputs": [],
   "source": [
    "#Selection of columns \n",
    "X = df_data.iloc[:,6:]\n",
    "\n",
    "#We have seen that a lot of rows are duplicated, we removed them from study\n",
    "X = X.drop_duplicates()"
   ]
  },
  {
   "cell_type": "markdown",
   "id": "3ab69b51-7bb0-4aad-a2ec-7017e5c8dd4b",
   "metadata": {},
   "source": [
    "Nous allons réduire la dimension du dataset en utilisant une décomposition par composantes principales"
   ]
  },
  {
   "cell_type": "code",
   "execution_count": 28,
   "id": "1ea0de38-0b8a-4b1b-a4aa-4cab0c7c7ea6",
   "metadata": {},
   "outputs": [],
   "source": [
    "#Creation of PCA model\n",
    "pca = PCA(n_components=X.shape[1])\n",
    "X_param_PCA = pca.fit_transform(X)\n",
    "\n",
    "#Find how many features needed to keep information\n",
    "nb_feature = np.argmax(np.cumsum(pca.explained_variance_ratio_)>0.85)\n",
    "\n",
    "#Reduction of dimension\n",
    "pca = PCA(n_components=nb_feature)\n",
    "X_reduced = pca.fit_transform(X)"
   ]
  },
  {
   "cell_type": "markdown",
   "id": "bd95f03e-0a34-4e49-aa17-275f3eef25e7",
   "metadata": {},
   "source": [
    "Intuitivement en ayant connaissance du problème on pourrait penser qu'il y a 4 clusters, testons un Kmeans avec 4 clusters"
   ]
  },
  {
   "cell_type": "code",
   "execution_count": 29,
   "id": "efe6958c-3f61-4774-88fa-d658b6903067",
   "metadata": {},
   "outputs": [
    {
     "data": {
      "image/png": "[encoded data removed]",
      "text/plain": [
       "<Figure size 640x480 with 1 Axes>"
      ]
     },
     "metadata": {},
     "output_type": "display_data"
    }
   ],
   "source": [
    "#Building a KMeans model\n",
    "kmeans = KMeans(n_clusters = 4)\n",
    "kmeans.fit(X_reduced)\n",
    "Y_train = kmeans.labels_\n",
    "centroids = kmeans.cluster_centers_\n",
    "\n",
    "pca = PCA(n_components=2)\n",
    "X_reduced = pca.fit_transform(X_reduced)\n",
    "\n",
    "plt.scatter(X_reduced[:,0], X_reduced[:,1], c=Y_train)\n",
    "plt.scatter(centroids[:,0] , centroids[:,1] , color = 'r')\n",
    "plt.title(\"KMeans pour K=4\")\n",
    "plt.show()"
   ]
  },
  {
   "cell_type": "markdown",
   "id": "fd13300b-352f-4fce-9074-0f799cb3d581",
   "metadata": {},
   "source": [
    "Essayons d'appliquer la méthode Elbow pour peut-être mieux dimensionner le nombre de cluster à utiliser "
   ]
  },
  {
   "cell_type": "markdown",
   "id": "ae4a9492-cca2-44ef-9407-860f604da58e",
   "metadata": {
    "tags": []
   },
   "source": [
    "##### Utilisation KMeans et choix du nombre de cluster via la méthode Elbow"
   ]
  },
  {
   "cell_type": "markdown",
   "id": "79d9d5a6-8acd-49f6-aa13-d5dc640fa144",
   "metadata": {},
   "source": [
    "Elbow Method"
   ]
  },
  {
   "cell_type": "code",
   "execution_count": 30,
   "id": "be641603-553f-4b5f-b10b-a0e8bca41d58",
   "metadata": {},
   "outputs": [],
   "source": [
    "distortions = []\n",
    "K = range(1,10)\n",
    "for k in K:\n",
    "    kmeanModel = KMeans(n_clusters=k)\n",
    "    kmeanModel.fit(X_reduced)\n",
    "    distortions.append(kmeanModel.inertia_)"
   ]
  },
  {
   "cell_type": "code",
   "execution_count": 31,
   "id": "e5007f8e-85c5-4363-b717-5945ee75a48a",
   "metadata": {},
   "outputs": [
    {
     "data": {
      "image/png": "[encoded data removed]",
      "text/plain": [
       "<Figure size 1600x800 with 1 Axes>"
      ]
     },
     "metadata": {},
     "output_type": "display_data"
    }
   ],
   "source": [
    "plt.figure(figsize=(16,8))\n",
    "plt.plot(K, distortions, 'X-')\n",
    "plt.title('The Elbow Method showing the optimal k')\n",
    "plt.show()"
   ]
  },
  {
   "cell_type": "markdown",
   "id": "dcb5a445-d08c-41cc-8120-0da19d54846a",
   "metadata": {},
   "source": [
    "En utilisant la méthode du coude i.e. sélectionner un nombre de cluster lorsqu'il y a un changement significatif de pente, on peut dire que cela peut être 2 ou 3. Voyons les deux résultats dans les graphique ci-dessous."
   ]
  },
  {
   "cell_type": "code",
   "execution_count": 32,
   "id": "ddb14dd6-820d-49da-af01-c9292a74f478",
   "metadata": {},
   "outputs": [
    {
     "data": {
      "image/png": "[encoded data removed]",
      "text/plain": [
       "<Figure size 640x480 with 1 Axes>"
      ]
     },
     "metadata": {},
     "output_type": "display_data"
    }
   ],
   "source": [
    "#Building a KMeans model\n",
    "kmeans2 = KMeans(n_clusters = 2)\n",
    "kmeans2.fit(X_reduced)\n",
    "Y_train = kmeans2.labels_\n",
    "centroids = kmeans2.cluster_centers_\n",
    "\n",
    "pca = PCA(n_components=2)\n",
    "X_reduced = pca.fit_transform(X_reduced)\n",
    "\n",
    "plt.scatter(X_reduced[:,0], X_reduced[:,1], c=Y_train)\n",
    "plt.scatter(centroids[:,0] , centroids[:,1] , color = 'r')\n",
    "plt.title(\"KMeans pour K=2\")\n",
    "plt.show()"
   ]
  },
  {
   "cell_type": "code",
   "execution_count": 33,
   "id": "4f9718be-6265-4cc7-a228-a7acd9712d85",
   "metadata": {},
   "outputs": [
    {
     "data": {
      "image/png": "[encoded data removed]",
      "text/plain": [
       "<Figure size 640x480 with 1 Axes>"
      ]
     },
     "metadata": {},
     "output_type": "display_data"
    }
   ],
   "source": [
    "#Building a KMeans model\n",
    "kmeans3 = KMeans(n_clusters = 3)\n",
    "kmeans3.fit(X_reduced)\n",
    "Y_train = kmeans3.labels_\n",
    "centroids = kmeans3.cluster_centers_\n",
    "\n",
    "pca = PCA(n_components=2)\n",
    "X_reduced = pca.fit_transform(X_reduced)\n",
    "\n",
    "plt.scatter(X_reduced[:,0], X_reduced[:,1], c=Y_train)\n",
    "plt.scatter(centroids[:,0] , centroids[:,1] , color = 'r')\n",
    "plt.title(\"KMeans pour K=3\")\n",
    "plt.show()"
   ]
  },
  {
   "cell_type": "markdown",
   "id": "782a768d-c062-4415-962d-4ddebb9fa383",
   "metadata": {},
   "source": [
    "##### Silhouette "
   ]
  },
  {
   "cell_type": "markdown",
   "id": "130e0919-f7b4-4f6d-a99a-52748d5901d2",
   "metadata": {},
   "source": [
    "Calculons le score de silhouette pour évaluer la performance du clustering puisqu'on ne connaît pas les vrais clusters."
   ]
  },
  {
   "cell_type": "code",
   "execution_count": 34,
   "id": "aff6dc05-42f5-4808-bf14-f73d064b57d6",
   "metadata": {},
   "outputs": [
    {
     "name": "stdout",
     "output_type": "stream",
     "text": [
      "Silhouette Coefficient Kmeans K=2 : 0.190\n",
      "Silhouette Coefficient Kmeans K=3 : 0.180\n"
     ]
    }
   ],
   "source": [
    "from sklearn import metrics\n",
    "\n",
    "print(\"Silhouette Coefficient Kmeans K=2 : %0.3f\" % metrics.silhouette_score(X, kmeans2.labels_, metric='sqeuclidean'))\n",
    "print(\"Silhouette Coefficient Kmeans K=3 : %0.3f\" % metrics.silhouette_score(X, kmeans3.labels_, metric='sqeuclidean'))"
   ]
  },
  {
   "cell_type": "markdown",
   "id": "f2dbb084-b54e-4274-8626-9c752a0e109c",
   "metadata": {},
   "source": [
    "Les assignations dans les classes ne semblent pas très satisfaisantes. \n",
    "\n",
    "Il pourrait être intéressant de voir avoir d'autres méthodes tel que AgglomerativeClustering ou DBSCAN de scikit-learn."
   ]
  },
  {
   "cell_type": "markdown",
   "id": "1ea16f3f-e975-44f5-8b39-fd50b02416ea",
   "metadata": {
    "tags": []
   },
   "source": [
    "### Question 8"
   ]
  },
  {
   "cell_type": "markdown",
   "id": "5784f17a-ebdd-4944-8092-bde966f6f865",
   "metadata": {},
   "source": [
    "We'll store all lines without job in a dataframe"
   ]
  },
  {
   "cell_type": "code",
   "execution_count": 35,
   "id": "9ce208c2-cf02-4531-8d0e-e32234eebf9d",
   "metadata": {},
   "outputs": [],
   "source": [
    "df_data = pd.read_csv(\"data/data_transformed.csv\", )"
   ]
  },
  {
   "cell_type": "code",
   "execution_count": 36,
   "id": "b6e6648d-1a96-4261-baff-84c2405ccbd2",
   "metadata": {},
   "outputs": [],
   "source": [
    "X_without_job = df_data[df_data['Metier'].isnull()]\n",
    "df_data = df_data[df_data['Metier'].notnull()]"
   ]
  },
  {
   "cell_type": "code",
   "execution_count": 37,
   "id": "6b376a8b-2103-455b-9b00-9d177e119d7b",
   "metadata": {},
   "outputs": [],
   "source": [
    "df_data = df_data.reset_index(drop=True)"
   ]
  },
  {
   "cell_type": "code",
   "execution_count": 38,
   "id": "bedf89ec-ab00-4a05-861d-fb3c3b725a79",
   "metadata": {},
   "outputs": [],
   "source": [
    "le_job = LabelEncoder()\n",
    "\n",
    "#Encoding of label ==isnulletier\n",
    "y = pd.DataFrame(le_job.fit_transform(df_data['Metier']), index=df_data.index, columns = ['Label'])\n",
    "\n",
    "#Selection of columns \n",
    "X = df_data.iloc[:,6:]"
   ]
  },
  {
   "cell_type": "code",
   "execution_count": 39,
   "id": "d4c0af87-e108-47b2-a3ca-aca4c9500805",
   "metadata": {},
   "outputs": [
    {
     "data": {
      "text/plain": [
       "Label\n",
       "0    2123\n",
       "1    2347\n",
       "2    3865\n",
       "3    1228\n",
       "dtype: int64"
      ]
     },
     "execution_count": 39,
     "metadata": {},
     "output_type": "execute_result"
    }
   ],
   "source": [
    "y.groupby('Label').size()"
   ]
  },
  {
   "cell_type": "code",
   "execution_count": 40,
   "id": "6d0236a4-8b71-46fb-8077-a9d90a404099",
   "metadata": {},
   "outputs": [
    {
     "name": "stdout",
     "output_type": "stream",
     "text": [
      "La proportion de chaque classe au sein du dataset est la suivante :\n",
      "Label\n",
      "0    22.20\n",
      "1    24.54\n",
      "2    40.42\n",
      "3    12.84\n",
      "dtype: float64\n"
     ]
    }
   ],
   "source": [
    "print(\"La proportion de chaque classe au sein du dataset est la suivante :\")\n",
    "print(np.round(100*y.groupby('Label').size()/len(y),2))"
   ]
  },
  {
   "cell_type": "code",
   "execution_count": 41,
   "id": "ca69c42b-baa8-4eea-8508-c66f49953a97",
   "metadata": {},
   "outputs": [],
   "source": [
    "X_train, X_test, y_train, y_test = train_test_split(X, y, test_size=0.3) # 70% training and 30% test"
   ]
  },
  {
   "cell_type": "code",
   "execution_count": 42,
   "id": "568daa3f-b6b0-46c3-a306-3f18868efbfe",
   "metadata": {},
   "outputs": [
    {
     "name": "stdout",
     "output_type": "stream",
     "text": [
      "La proportion de chaque classe au sein du dataset d'entrainement est la suivante :\n",
      "Label\n",
      "0    22.72\n",
      "1    24.32\n",
      "2    40.19\n",
      "3    12.77\n",
      "dtype: float64\n"
     ]
    }
   ],
   "source": [
    "print(\"La proportion de chaque classe au sein du dataset d'entrainement est la suivante :\")\n",
    "print(np.round(100*y_train.groupby('Label').size()/len(y_train),2))"
   ]
  },
  {
   "cell_type": "markdown",
   "id": "39dd2122-4c10-4b50-b4f1-3a87309a1828",
   "metadata": {},
   "source": [
    "Les proportions sont respectées"
   ]
  },
  {
   "cell_type": "markdown",
   "id": "c3149079-4226-41c4-aa4b-96373b1cb1b8",
   "metadata": {},
   "source": [
    "##### Test avec une random forest"
   ]
  },
  {
   "cell_type": "code",
   "execution_count": 43,
   "id": "7c4909ce-9f8f-41a5-9647-7a0c8fdb6fe4",
   "metadata": {},
   "outputs": [],
   "source": [
    "rf=RandomForestClassifier()\n",
    "rf.fit(X_train,np.ravel(y_train))\n",
    "y_pred=rf.predict(X_test)"
   ]
  },
  {
   "cell_type": "code",
   "execution_count": 44,
   "id": "f9159a5c-319c-4d71-864c-8c53b5d9667a",
   "metadata": {},
   "outputs": [
    {
     "name": "stdout",
     "output_type": "stream",
     "text": [
      "Accuracy: 87.2 %\n"
     ]
    }
   ],
   "source": [
    "print(\"Accuracy:\",np.round(100*metrics.accuracy_score(y_test, y_pred),1),'%')"
   ]
  },
  {
   "cell_type": "code",
   "execution_count": 45,
   "id": "851aa16a-016c-4ab9-81bd-df7d28b9d85b",
   "metadata": {},
   "outputs": [],
   "source": [
    "df_predict = pd.DataFrame(le_job.inverse_transform(y_pred), columns=['Label'])"
   ]
  },
  {
   "cell_type": "markdown",
   "id": "b2750909-e792-4ab8-8ca5-f0724bf10182",
   "metadata": {},
   "source": [
    "Proportion des métiers dans le jeu prédit"
   ]
  },
  {
   "cell_type": "code",
   "execution_count": 46,
   "id": "a159c46b-abb9-46f1-ac0a-b917c0bf3f45",
   "metadata": {},
   "outputs": [
    {
     "name": "stdout",
     "output_type": "stream",
     "text": [
      "La proportion de chaque classe au sein des labels prédits est la suivante :\n",
      "Label\n",
      "Data architecte        20.25\n",
      "Data engineer          25.06\n",
      "Data scientist         52.32\n",
      "Lead data scientist     2.37\n",
      "dtype: float64\n"
     ]
    }
   ],
   "source": [
    "print(\"La proportion de chaque classe au sein des labels prédits est la suivante :\")\n",
    "print(np.round(100*df_predict.groupby('Label').size()/len(df_predict),2))"
   ]
  },
  {
   "cell_type": "markdown",
   "id": "8a4c32a2-f2ac-4562-af57-2bcbbd1dbbf5",
   "metadata": {},
   "source": [
    "Le résultat donné par une random forest est plutôt satisfaisant en effet la précision est de 87%. "
   ]
  },
  {
   "cell_type": "code",
   "execution_count": 47,
   "id": "22e298ec-7960-4704-9f9c-cf923764d1fa",
   "metadata": {},
   "outputs": [],
   "source": [
    "feature_imp = pd.Series(rf.feature_importances_,index=X_train.columns).sort_values(ascending=False)"
   ]
  },
  {
   "cell_type": "code",
   "execution_count": 48,
   "id": "a0f94fff-f61a-4ffe-b1d2-d2332610b50f",
   "metadata": {},
   "outputs": [
    {
     "data": {
      "image/png": "[encoded data removed]",
      "text/plain": [
       "<Figure size 640x480 with 1 Axes>"
      ]
     },
     "metadata": {},
     "output_type": "display_data"
    }
   ],
   "source": [
    "# Creating a bar plot\n",
    "sns.barplot(x=feature_imp.head(10), y=feature_imp.head(10).index)\n",
    "# Add labels to your graph\n",
    "plt.xlabel('Feature Importance Score')\n",
    "plt.ylabel('Features')\n",
    "plt.title(\"Visualizing Important Features\")\n",
    "plt.show()"
   ]
  },
  {
   "cell_type": "markdown",
   "id": "08328e96-0bff-42a6-a616-524218c87fbb",
   "metadata": {},
   "source": [
    "Nous pouvons voir ici quels sont les attributs les plus important dans la prise de décision des arbres de la random forest. Le language R est la première position de loin et les autres sont assez proches"
   ]
  },
  {
   "cell_type": "markdown",
   "id": "f581eea1-f082-424c-9bb1-504ae6162e9b",
   "metadata": {},
   "source": [
    "##### Essayons de pimper les hyperparamètres de la random forest"
   ]
  },
  {
   "cell_type": "code",
   "execution_count": 49,
   "id": "749ede5e-dea0-4af9-bd15-628682a6337d",
   "metadata": {},
   "outputs": [],
   "source": [
    "hyperparams={'min_samples_leaf':[1, 2, 3, 5, 10],\n",
    "             'min_samples_split':[2, 4, 6, 10, 30]}\n",
    "\n",
    "gsc = GridSearchCV(\n",
    "        estimator=RandomForestClassifier(n_jobs=2, random_state=0),\n",
    "        param_grid=hyperparams,\n",
    "        cv=5, scoring='accuracy', verbose=0, n_jobs=-1)"
   ]
  },
  {
   "cell_type": "code",
   "execution_count": 50,
   "id": "4efc63f7-1a15-45d8-9043-fc9d98bd7364",
   "metadata": {},
   "outputs": [],
   "source": [
    "grid_result = gsc.fit(X,np.ravel(y))"
   ]
  },
  {
   "cell_type": "code",
   "execution_count": 51,
   "id": "a9eae41d-3523-446d-b443-4d1b40d6f589",
   "metadata": {},
   "outputs": [
    {
     "name": "stdout",
     "output_type": "stream",
     "text": [
      "The best parameters evaluated on the grid search CV are :  {'min_samples_leaf': 1, 'min_samples_split': 2}\n",
      "The score on the cross validation for those parameters is :  87.4 %\n"
     ]
    }
   ],
   "source": [
    "best_params = grid_result.best_params_\n",
    "print('The best parameters evaluated on the grid search CV are : ', best_params)\n",
    "print('The score on the cross validation for those parameters is : ',  round(grid_result.best_score_*100,1), '%')"
   ]
  },
  {
   "cell_type": "code",
   "execution_count": 52,
   "id": "b788c018-dde2-4161-9692-67334b17b7a5",
   "metadata": {},
   "outputs": [],
   "source": [
    "best_estimator = grid_result.best_estimator_\n",
    "y_pred=best_estimator.predict(X_test)"
   ]
  },
  {
   "cell_type": "code",
   "execution_count": 53,
   "id": "7d4b8ae9-ebc2-42f4-8543-1ed33d3e11a0",
   "metadata": {},
   "outputs": [],
   "source": [
    "df_predict = pd.DataFrame(le_job.inverse_transform(y_pred), columns=['Label'])"
   ]
  },
  {
   "cell_type": "code",
   "execution_count": 54,
   "id": "a5300b8e-5d72-49fb-9cc0-f94bece6915c",
   "metadata": {},
   "outputs": [
    {
     "name": "stdout",
     "output_type": "stream",
     "text": [
      "La proportion de chaque classe au sein des labels prédits est la suivante :\n",
      "Label\n",
      "Data architecte        20.25\n",
      "Data engineer          25.06\n",
      "Data scientist         52.32\n",
      "Lead data scientist     2.37\n",
      "dtype: float64\n"
     ]
    }
   ],
   "source": [
    "print(\"La proportion de chaque classe au sein des labels prédits est la suivante :\")\n",
    "print(np.round(100*df_predict.groupby('Label').size()/len(df_predict),2))"
   ]
  },
  {
   "cell_type": "markdown",
   "id": "1aa5e4b0-8eb3-4216-8287-ba8e47252b97",
   "metadata": {},
   "source": [
    "On note que le résultat est assez proche à la random forest 'basique'. "
   ]
  },
  {
   "cell_type": "markdown",
   "id": "daee927e-fd3f-456c-ab2b-ff28db5a425f",
   "metadata": {},
   "source": [
    "Test avec un Gradient Boost"
   ]
  },
  {
   "cell_type": "code",
   "execution_count": 55,
   "id": "7b3bdd5f-0f70-4ada-89ad-d027a03ad53f",
   "metadata": {},
   "outputs": [],
   "source": [
    "from sklearn.ensemble import GradientBoostingClassifier"
   ]
  },
  {
   "cell_type": "code",
   "execution_count": 56,
   "id": "24d1386d-8e58-4bcb-befb-46c7096f73b8",
   "metadata": {},
   "outputs": [],
   "source": [
    "X_train, X_test, y_train, y_test = train_test_split(X, y, test_size=0.3) # 70% training and 30% test\n"
   ]
  },
  {
   "cell_type": "code",
   "execution_count": 57,
   "id": "80e1e14b-e5a8-4c78-b7d8-94a906cbc4f8",
   "metadata": {},
   "outputs": [
    {
     "name": "stdout",
     "output_type": "stream",
     "text": [
      "Accuracy : 87.7 %\n"
     ]
    }
   ],
   "source": [
    "gbc = GradientBoostingClassifier(n_estimators=100, learning_rate=1.0,\n",
    "                                 max_depth=1, random_state=0).fit(X_train, np.ravel(y_train))\n",
    "y_pred=gbc.predict(X_test)\n",
    "print(\"Accuracy :\", np.round(100*gbc.score(X_test, np.ravel(y_test)),1), '%')"
   ]
  },
  {
   "cell_type": "markdown",
   "id": "06f1e208-2d93-4788-99c0-809bd97beb55",
   "metadata": {},
   "source": [
    "Proportion des métiers dans le jeu prédit"
   ]
  },
  {
   "cell_type": "code",
   "execution_count": 58,
   "id": "711c787a-f64b-4e9b-8a9e-f19ef5f838d8",
   "metadata": {},
   "outputs": [],
   "source": [
    "df_predict = pd.DataFrame(le_job.inverse_transform(y_pred), columns=['Label'])"
   ]
  },
  {
   "cell_type": "code",
   "execution_count": 59,
   "id": "37d09bdf-3d89-47e7-82d5-0c150e2efbee",
   "metadata": {},
   "outputs": [
    {
     "name": "stdout",
     "output_type": "stream",
     "text": [
      "La proportion de chaque classe au sein des labels prédits est la suivante :\n",
      "Label\n",
      "Data architecte        21.61\n",
      "Data engineer          25.48\n",
      "Data scientist         50.68\n",
      "Lead data scientist     2.23\n",
      "dtype: float64\n"
     ]
    }
   ],
   "source": [
    "print(\"La proportion de chaque classe au sein des labels prédits est la suivante :\")\n",
    "print(np.round(100*df_predict.groupby('Label').size()/len(df_predict),2))"
   ]
  },
  {
   "cell_type": "markdown",
   "id": "c80bb812-f54e-49bb-a917-ca36b313c0f6",
   "metadata": {},
   "source": [
    "##### Prediction pour les métiers manquants dans la base initiale"
   ]
  },
  {
   "cell_type": "code",
   "execution_count": 60,
   "id": "13d891a1-d329-4721-8ef0-16ed4ba61a47",
   "metadata": {},
   "outputs": [],
   "source": [
    "X_missing = X_without_job.iloc[:,6:]\n",
    "\n",
    "y_missing = gbc.predict(X_missing)\n",
    "\n",
    "y_metier_predicted = le_job.inverse_transform(y_missing)\n",
    "\n",
    "X_without_job['Metier'] = y_metier_predicted"
   ]
  },
  {
   "cell_type": "markdown",
   "id": "469c7388-3062-4827-b08a-6c0bca7401e8",
   "metadata": {},
   "source": [
    "Les résultats de la prédiction pour les observations de départ n'ayant pas de métier spécifié"
   ]
  },
  {
   "cell_type": "code",
   "execution_count": 61,
   "id": "a7ad5d88-abb3-417c-8c72-25b979be59a1",
   "metadata": {},
   "outputs": [
    {
     "data": {
      "text/html": [
       "<div>\n",
       "<style scoped>\n",
       "    .dataframe tbody tr th:only-of-type {\n",
       "        vertical-align: middle;\n",
       "    }\n",
       "\n",
       "    .dataframe tbody tr th {\n",
       "        vertical-align: top;\n",
       "    }\n",
       "\n",
       "    .dataframe thead th {\n",
       "        text-align: right;\n",
       "    }\n",
       "</style>\n",
       "<table border=\"1\" class=\"dataframe\">\n",
       "  <thead>\n",
       "    <tr style=\"text-align: right;\">\n",
       "      <th></th>\n",
       "      <th>Entreprise</th>\n",
       "      <th>Metier</th>\n",
       "      <th>Diplome</th>\n",
       "      <th>Experience</th>\n",
       "      <th>Ville</th>\n",
       "      <th>Exp_label</th>\n",
       "      <th>ai</th>\n",
       "      <th>anglais</th>\n",
       "      <th>aws</th>\n",
       "      <th>big data</th>\n",
       "      <th>...</th>\n",
       "      <th>spark</th>\n",
       "      <th>spss</th>\n",
       "      <th>sql</th>\n",
       "      <th>tableau</th>\n",
       "      <th>tensorflow</th>\n",
       "      <th>teradata</th>\n",
       "      <th>vba</th>\n",
       "      <th>vertica</th>\n",
       "      <th>windows</th>\n",
       "      <th>yarn</th>\n",
       "    </tr>\n",
       "  </thead>\n",
       "  <tbody>\n",
       "    <tr>\n",
       "      <th>346</th>\n",
       "      <td>Jacobs</td>\n",
       "      <td>Data engineer</td>\n",
       "      <td>No diploma</td>\n",
       "      <td>2.5</td>\n",
       "      <td>Paris</td>\n",
       "      <td>Avance</td>\n",
       "      <td>0</td>\n",
       "      <td>0</td>\n",
       "      <td>0</td>\n",
       "      <td>0</td>\n",
       "      <td>...</td>\n",
       "      <td>1</td>\n",
       "      <td>0</td>\n",
       "      <td>0</td>\n",
       "      <td>0</td>\n",
       "      <td>0</td>\n",
       "      <td>0</td>\n",
       "      <td>0</td>\n",
       "      <td>0</td>\n",
       "      <td>0</td>\n",
       "      <td>0</td>\n",
       "    </tr>\n",
       "    <tr>\n",
       "      <th>2058</th>\n",
       "      <td>Ball Aerospace</td>\n",
       "      <td>Data scientist</td>\n",
       "      <td>Master</td>\n",
       "      <td>15.0</td>\n",
       "      <td>Lyon</td>\n",
       "      <td>Expert</td>\n",
       "      <td>0</td>\n",
       "      <td>0</td>\n",
       "      <td>0</td>\n",
       "      <td>0</td>\n",
       "      <td>...</td>\n",
       "      <td>0</td>\n",
       "      <td>0</td>\n",
       "      <td>0</td>\n",
       "      <td>0</td>\n",
       "      <td>0</td>\n",
       "      <td>0</td>\n",
       "      <td>1</td>\n",
       "      <td>0</td>\n",
       "      <td>0</td>\n",
       "      <td>0</td>\n",
       "    </tr>\n",
       "    <tr>\n",
       "      <th>2670</th>\n",
       "      <td>eHire, LLC</td>\n",
       "      <td>Data scientist</td>\n",
       "      <td>Master</td>\n",
       "      <td>1.5</td>\n",
       "      <td>Toulouse</td>\n",
       "      <td>Confirme</td>\n",
       "      <td>0</td>\n",
       "      <td>0</td>\n",
       "      <td>0</td>\n",
       "      <td>0</td>\n",
       "      <td>...</td>\n",
       "      <td>0</td>\n",
       "      <td>0</td>\n",
       "      <td>0</td>\n",
       "      <td>0</td>\n",
       "      <td>0</td>\n",
       "      <td>0</td>\n",
       "      <td>0</td>\n",
       "      <td>0</td>\n",
       "      <td>0</td>\n",
       "      <td>0</td>\n",
       "    </tr>\n",
       "    <tr>\n",
       "      <th>2899</th>\n",
       "      <td>Norfolk Southern Corp</td>\n",
       "      <td>Data scientist</td>\n",
       "      <td>Phd</td>\n",
       "      <td>0.0</td>\n",
       "      <td>Grenoble</td>\n",
       "      <td>Debutant</td>\n",
       "      <td>0</td>\n",
       "      <td>0</td>\n",
       "      <td>0</td>\n",
       "      <td>0</td>\n",
       "      <td>...</td>\n",
       "      <td>0</td>\n",
       "      <td>0</td>\n",
       "      <td>0</td>\n",
       "      <td>0</td>\n",
       "      <td>1</td>\n",
       "      <td>0</td>\n",
       "      <td>0</td>\n",
       "      <td>0</td>\n",
       "      <td>0</td>\n",
       "      <td>0</td>\n",
       "    </tr>\n",
       "    <tr>\n",
       "      <th>3346</th>\n",
       "      <td>J.E. Ranta Associates</td>\n",
       "      <td>Data architecte</td>\n",
       "      <td>Master</td>\n",
       "      <td>7.0</td>\n",
       "      <td>Rennes</td>\n",
       "      <td>Expert</td>\n",
       "      <td>0</td>\n",
       "      <td>0</td>\n",
       "      <td>1</td>\n",
       "      <td>0</td>\n",
       "      <td>...</td>\n",
       "      <td>0</td>\n",
       "      <td>0</td>\n",
       "      <td>0</td>\n",
       "      <td>0</td>\n",
       "      <td>0</td>\n",
       "      <td>0</td>\n",
       "      <td>0</td>\n",
       "      <td>0</td>\n",
       "      <td>0</td>\n",
       "      <td>0</td>\n",
       "    </tr>\n",
       "    <tr>\n",
       "      <th>4248</th>\n",
       "      <td>KPMG</td>\n",
       "      <td>Data scientist</td>\n",
       "      <td>Phd</td>\n",
       "      <td>2.0</td>\n",
       "      <td>Lyon</td>\n",
       "      <td>Confirme</td>\n",
       "      <td>0</td>\n",
       "      <td>0</td>\n",
       "      <td>0</td>\n",
       "      <td>0</td>\n",
       "      <td>...</td>\n",
       "      <td>0</td>\n",
       "      <td>0</td>\n",
       "      <td>1</td>\n",
       "      <td>0</td>\n",
       "      <td>0</td>\n",
       "      <td>0</td>\n",
       "      <td>0</td>\n",
       "      <td>0</td>\n",
       "      <td>0</td>\n",
       "      <td>0</td>\n",
       "    </tr>\n",
       "    <tr>\n",
       "      <th>4290</th>\n",
       "      <td>Pandora Media, Inc.</td>\n",
       "      <td>Data scientist</td>\n",
       "      <td>Phd</td>\n",
       "      <td>1.5</td>\n",
       "      <td>Toulouse</td>\n",
       "      <td>Confirme</td>\n",
       "      <td>0</td>\n",
       "      <td>1</td>\n",
       "      <td>0</td>\n",
       "      <td>0</td>\n",
       "      <td>...</td>\n",
       "      <td>0</td>\n",
       "      <td>0</td>\n",
       "      <td>1</td>\n",
       "      <td>0</td>\n",
       "      <td>0</td>\n",
       "      <td>1</td>\n",
       "      <td>0</td>\n",
       "      <td>0</td>\n",
       "      <td>0</td>\n",
       "      <td>0</td>\n",
       "    </tr>\n",
       "    <tr>\n",
       "      <th>4292</th>\n",
       "      <td>Partners HealthCare(PHS)</td>\n",
       "      <td>Data scientist</td>\n",
       "      <td>Master</td>\n",
       "      <td>8.0</td>\n",
       "      <td>Bordeaux</td>\n",
       "      <td>Expert</td>\n",
       "      <td>0</td>\n",
       "      <td>1</td>\n",
       "      <td>0</td>\n",
       "      <td>0</td>\n",
       "      <td>...</td>\n",
       "      <td>0</td>\n",
       "      <td>0</td>\n",
       "      <td>1</td>\n",
       "      <td>0</td>\n",
       "      <td>0</td>\n",
       "      <td>1</td>\n",
       "      <td>0</td>\n",
       "      <td>0</td>\n",
       "      <td>0</td>\n",
       "      <td>0</td>\n",
       "    </tr>\n",
       "    <tr>\n",
       "      <th>5425</th>\n",
       "      <td>Ashton Lane Group</td>\n",
       "      <td>Data engineer</td>\n",
       "      <td>No diploma</td>\n",
       "      <td>5.0</td>\n",
       "      <td>Lyon</td>\n",
       "      <td>Expert</td>\n",
       "      <td>0</td>\n",
       "      <td>0</td>\n",
       "      <td>0</td>\n",
       "      <td>0</td>\n",
       "      <td>...</td>\n",
       "      <td>1</td>\n",
       "      <td>0</td>\n",
       "      <td>0</td>\n",
       "      <td>0</td>\n",
       "      <td>0</td>\n",
       "      <td>0</td>\n",
       "      <td>0</td>\n",
       "      <td>0</td>\n",
       "      <td>0</td>\n",
       "      <td>0</td>\n",
       "    </tr>\n",
       "    <tr>\n",
       "      <th>5593</th>\n",
       "      <td>Lighthouse Lab Services</td>\n",
       "      <td>Data scientist</td>\n",
       "      <td>Master</td>\n",
       "      <td>3.0</td>\n",
       "      <td>Lyon</td>\n",
       "      <td>Avance</td>\n",
       "      <td>0</td>\n",
       "      <td>0</td>\n",
       "      <td>0</td>\n",
       "      <td>0</td>\n",
       "      <td>...</td>\n",
       "      <td>0</td>\n",
       "      <td>0</td>\n",
       "      <td>0</td>\n",
       "      <td>0</td>\n",
       "      <td>0</td>\n",
       "      <td>0</td>\n",
       "      <td>1</td>\n",
       "      <td>0</td>\n",
       "      <td>0</td>\n",
       "      <td>0</td>\n",
       "    </tr>\n",
       "    <tr>\n",
       "      <th>5712</th>\n",
       "      <td>Ball Aerospace</td>\n",
       "      <td>Data architecte</td>\n",
       "      <td>Bachelor</td>\n",
       "      <td>3.0</td>\n",
       "      <td>Paris</td>\n",
       "      <td>Avance</td>\n",
       "      <td>0</td>\n",
       "      <td>0</td>\n",
       "      <td>0</td>\n",
       "      <td>0</td>\n",
       "      <td>...</td>\n",
       "      <td>0</td>\n",
       "      <td>0</td>\n",
       "      <td>0</td>\n",
       "      <td>1</td>\n",
       "      <td>0</td>\n",
       "      <td>0</td>\n",
       "      <td>0</td>\n",
       "      <td>1</td>\n",
       "      <td>0</td>\n",
       "      <td>0</td>\n",
       "    </tr>\n",
       "    <tr>\n",
       "      <th>6024</th>\n",
       "      <td>Leidos</td>\n",
       "      <td>Data engineer</td>\n",
       "      <td>Master</td>\n",
       "      <td>1.5</td>\n",
       "      <td>Lyon</td>\n",
       "      <td>Confirme</td>\n",
       "      <td>0</td>\n",
       "      <td>0</td>\n",
       "      <td>0</td>\n",
       "      <td>0</td>\n",
       "      <td>...</td>\n",
       "      <td>0</td>\n",
       "      <td>0</td>\n",
       "      <td>0</td>\n",
       "      <td>0</td>\n",
       "      <td>0</td>\n",
       "      <td>0</td>\n",
       "      <td>0</td>\n",
       "      <td>0</td>\n",
       "      <td>0</td>\n",
       "      <td>0</td>\n",
       "    </tr>\n",
       "    <tr>\n",
       "      <th>6625</th>\n",
       "      <td>Ball Aerospace</td>\n",
       "      <td>Data architecte</td>\n",
       "      <td>No diploma</td>\n",
       "      <td>0.0</td>\n",
       "      <td>Paris</td>\n",
       "      <td>Debutant</td>\n",
       "      <td>0</td>\n",
       "      <td>0</td>\n",
       "      <td>0</td>\n",
       "      <td>0</td>\n",
       "      <td>...</td>\n",
       "      <td>0</td>\n",
       "      <td>0</td>\n",
       "      <td>0</td>\n",
       "      <td>1</td>\n",
       "      <td>0</td>\n",
       "      <td>0</td>\n",
       "      <td>0</td>\n",
       "      <td>1</td>\n",
       "      <td>0</td>\n",
       "      <td>0</td>\n",
       "    </tr>\n",
       "    <tr>\n",
       "      <th>7091</th>\n",
       "      <td>KPMG</td>\n",
       "      <td>Data scientist</td>\n",
       "      <td>Master</td>\n",
       "      <td>0.0</td>\n",
       "      <td>Marseille</td>\n",
       "      <td>Debutant</td>\n",
       "      <td>0</td>\n",
       "      <td>1</td>\n",
       "      <td>0</td>\n",
       "      <td>0</td>\n",
       "      <td>...</td>\n",
       "      <td>0</td>\n",
       "      <td>0</td>\n",
       "      <td>1</td>\n",
       "      <td>0</td>\n",
       "      <td>0</td>\n",
       "      <td>1</td>\n",
       "      <td>0</td>\n",
       "      <td>0</td>\n",
       "      <td>0</td>\n",
       "      <td>0</td>\n",
       "    </tr>\n",
       "    <tr>\n",
       "      <th>7228</th>\n",
       "      <td>Environmental Defense Fund</td>\n",
       "      <td>Data engineer</td>\n",
       "      <td>Master</td>\n",
       "      <td>2.5</td>\n",
       "      <td>Bordeaux</td>\n",
       "      <td>Avance</td>\n",
       "      <td>0</td>\n",
       "      <td>0</td>\n",
       "      <td>0</td>\n",
       "      <td>0</td>\n",
       "      <td>...</td>\n",
       "      <td>0</td>\n",
       "      <td>0</td>\n",
       "      <td>0</td>\n",
       "      <td>0</td>\n",
       "      <td>0</td>\n",
       "      <td>0</td>\n",
       "      <td>0</td>\n",
       "      <td>0</td>\n",
       "      <td>0</td>\n",
       "      <td>0</td>\n",
       "    </tr>\n",
       "    <tr>\n",
       "      <th>7330</th>\n",
       "      <td>Turner</td>\n",
       "      <td>Data scientist</td>\n",
       "      <td>Phd</td>\n",
       "      <td>0.5</td>\n",
       "      <td>Lyon</td>\n",
       "      <td>Debutant</td>\n",
       "      <td>0</td>\n",
       "      <td>1</td>\n",
       "      <td>0</td>\n",
       "      <td>0</td>\n",
       "      <td>...</td>\n",
       "      <td>0</td>\n",
       "      <td>0</td>\n",
       "      <td>0</td>\n",
       "      <td>0</td>\n",
       "      <td>0</td>\n",
       "      <td>0</td>\n",
       "      <td>0</td>\n",
       "      <td>0</td>\n",
       "      <td>0</td>\n",
       "      <td>0</td>\n",
       "    </tr>\n",
       "    <tr>\n",
       "      <th>9087</th>\n",
       "      <td>Klein Hersh International</td>\n",
       "      <td>Data architecte</td>\n",
       "      <td>No diploma</td>\n",
       "      <td>3.5</td>\n",
       "      <td>Paris</td>\n",
       "      <td>Avance</td>\n",
       "      <td>0</td>\n",
       "      <td>0</td>\n",
       "      <td>0</td>\n",
       "      <td>0</td>\n",
       "      <td>...</td>\n",
       "      <td>0</td>\n",
       "      <td>0</td>\n",
       "      <td>0</td>\n",
       "      <td>1</td>\n",
       "      <td>0</td>\n",
       "      <td>0</td>\n",
       "      <td>0</td>\n",
       "      <td>1</td>\n",
       "      <td>0</td>\n",
       "      <td>0</td>\n",
       "    </tr>\n",
       "    <tr>\n",
       "      <th>9427</th>\n",
       "      <td>McKinsey &amp; Company</td>\n",
       "      <td>Data scientist</td>\n",
       "      <td>Master</td>\n",
       "      <td>1.0</td>\n",
       "      <td>Marseille</td>\n",
       "      <td>Debutant</td>\n",
       "      <td>0</td>\n",
       "      <td>0</td>\n",
       "      <td>0</td>\n",
       "      <td>0</td>\n",
       "      <td>...</td>\n",
       "      <td>0</td>\n",
       "      <td>0</td>\n",
       "      <td>0</td>\n",
       "      <td>0</td>\n",
       "      <td>0</td>\n",
       "      <td>0</td>\n",
       "      <td>1</td>\n",
       "      <td>0</td>\n",
       "      <td>0</td>\n",
       "      <td>0</td>\n",
       "    </tr>\n",
       "    <tr>\n",
       "      <th>9490</th>\n",
       "      <td>Pearson</td>\n",
       "      <td>Data scientist</td>\n",
       "      <td>Master</td>\n",
       "      <td>4.0</td>\n",
       "      <td>Marseille</td>\n",
       "      <td>Expert</td>\n",
       "      <td>0</td>\n",
       "      <td>0</td>\n",
       "      <td>0</td>\n",
       "      <td>0</td>\n",
       "      <td>...</td>\n",
       "      <td>1</td>\n",
       "      <td>0</td>\n",
       "      <td>1</td>\n",
       "      <td>0</td>\n",
       "      <td>0</td>\n",
       "      <td>0</td>\n",
       "      <td>0</td>\n",
       "      <td>0</td>\n",
       "      <td>0</td>\n",
       "      <td>0</td>\n",
       "    </tr>\n",
       "  </tbody>\n",
       "</table>\n",
       "<p>19 rows × 62 columns</p>\n",
       "</div>"
      ],
      "text/plain": [
       "                      Entreprise           Metier     Diplome  Experience  \\\n",
       "346                       Jacobs    Data engineer  No diploma         2.5   \n",
       "2058              Ball Aerospace   Data scientist      Master        15.0   \n",
       "2670                  eHire, LLC   Data scientist      Master         1.5   \n",
       "2899       Norfolk Southern Corp   Data scientist         Phd         0.0   \n",
       "3346       J.E. Ranta Associates  Data architecte      Master         7.0   \n",
       "4248                        KPMG   Data scientist         Phd         2.0   \n",
       "4290         Pandora Media, Inc.   Data scientist         Phd         1.5   \n",
       "4292    Partners HealthCare(PHS)   Data scientist      Master         8.0   \n",
       "5425           Ashton Lane Group    Data engineer  No diploma         5.0   \n",
       "5593     Lighthouse Lab Services   Data scientist      Master         3.0   \n",
       "5712              Ball Aerospace  Data architecte    Bachelor         3.0   \n",
       "6024                      Leidos    Data engineer      Master         1.5   \n",
       "6625              Ball Aerospace  Data architecte  No diploma         0.0   \n",
       "7091                        KPMG   Data scientist      Master         0.0   \n",
       "7228  Environmental Defense Fund    Data engineer      Master         2.5   \n",
       "7330                      Turner   Data scientist         Phd         0.5   \n",
       "9087   Klein Hersh International  Data architecte  No diploma         3.5   \n",
       "9427          McKinsey & Company   Data scientist      Master         1.0   \n",
       "9490                     Pearson   Data scientist      Master         4.0   \n",
       "\n",
       "          Ville Exp_label  ai  anglais  aws  big data  ...  spark  spss  sql  \\\n",
       "346       Paris    Avance   0        0    0         0  ...      1     0    0   \n",
       "2058       Lyon    Expert   0        0    0         0  ...      0     0    0   \n",
       "2670   Toulouse  Confirme   0        0    0         0  ...      0     0    0   \n",
       "2899   Grenoble  Debutant   0        0    0         0  ...      0     0    0   \n",
       "3346     Rennes    Expert   0        0    1         0  ...      0     0    0   \n",
       "4248       Lyon  Confirme   0        0    0         0  ...      0     0    1   \n",
       "4290   Toulouse  Confirme   0        1    0         0  ...      0     0    1   \n",
       "4292   Bordeaux    Expert   0        1    0         0  ...      0     0    1   \n",
       "5425       Lyon    Expert   0        0    0         0  ...      1     0    0   \n",
       "5593       Lyon    Avance   0        0    0         0  ...      0     0    0   \n",
       "5712      Paris    Avance   0        0    0         0  ...      0     0    0   \n",
       "6024       Lyon  Confirme   0        0    0         0  ...      0     0    0   \n",
       "6625      Paris  Debutant   0        0    0         0  ...      0     0    0   \n",
       "7091  Marseille  Debutant   0        1    0         0  ...      0     0    1   \n",
       "7228   Bordeaux    Avance   0        0    0         0  ...      0     0    0   \n",
       "7330       Lyon  Debutant   0        1    0         0  ...      0     0    0   \n",
       "9087      Paris    Avance   0        0    0         0  ...      0     0    0   \n",
       "9427  Marseille  Debutant   0        0    0         0  ...      0     0    0   \n",
       "9490  Marseille    Expert   0        0    0         0  ...      1     0    1   \n",
       "\n",
       "      tableau  tensorflow  teradata  vba  vertica  windows  yarn  \n",
       "346         0           0         0    0        0        0     0  \n",
       "2058        0           0         0    1        0        0     0  \n",
       "2670        0           0         0    0        0        0     0  \n",
       "2899        0           1         0    0        0        0     0  \n",
       "3346        0           0         0    0        0        0     0  \n",
       "4248        0           0         0    0        0        0     0  \n",
       "4290        0           0         1    0        0        0     0  \n",
       "4292        0           0         1    0        0        0     0  \n",
       "5425        0           0         0    0        0        0     0  \n",
       "5593        0           0         0    1        0        0     0  \n",
       "5712        1           0         0    0        1        0     0  \n",
       "6024        0           0         0    0        0        0     0  \n",
       "6625        1           0         0    0        1        0     0  \n",
       "7091        0           0         1    0        0        0     0  \n",
       "7228        0           0         0    0        0        0     0  \n",
       "7330        0           0         0    0        0        0     0  \n",
       "9087        1           0         0    0        1        0     0  \n",
       "9427        0           0         0    1        0        0     0  \n",
       "9490        0           0         0    0        0        0     0  \n",
       "\n",
       "[19 rows x 62 columns]"
      ]
     },
     "execution_count": 61,
     "metadata": {},
     "output_type": "execute_result"
    }
   ],
   "source": [
    "X_without_job"
   ]
  }
 ],
 "metadata": {
  "kernelspec": {
   "display_name": "Python 3 (ipykernel)",
   "language": "python",
   "name": "python3"
  },
  "language_info": {
   "codemirror_mode": {
    "name": "ipython",
    "version": 3
   },
   "file_extension": ".py",
   "mimetype": "text/x-python",
   "name": "python",
   "nbconvert_exporter": "python",
   "pygments_lexer": "ipython3",
   "version": "3.9.13"
  }
 },
 "nbformat": 4,
 "nbformat_minor": 5
}
